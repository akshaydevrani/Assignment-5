{
 "cells": [
  {
   "cell_type": "code",
   "execution_count": 3,
   "id": "b15e2092",
   "metadata": {},
   "outputs": [
    {
     "name": "stdout",
     "output_type": "stream",
     "text": [
      "Account details:\n",
      "Title: Ashish\n",
      "Balance: 5000\n",
      "\n",
      "Savings Account details:\n",
      "Title: Ashish\n",
      "Balance: 5000\n",
      "Interest Rate: 5\n"
     ]
    }
   ],
   "source": [
    "#Challenge 4: Implement a Banking Account\n",
    "#🔴 In this challenge, you will implement a banking account using the concepts of inheritance.\n",
    "#Problem statement\n",
    "#Implement the basic structure of a parent class, Account, and a child class, SavingsAccount.\n",
    "#Task 1\n",
    "#👉 Implement properties as instance variables, and set them to None or 0.\n",
    "#Account has the following properties:\n",
    "#    • title\n",
    "#    • Balance\n",
    "#SavingsAccount has the following properties:\n",
    "#    • interestRate\n",
    "#Task 2\n",
    "#Create an initializer for Account class. The order of parameters should be the following, where Ashish is the title, and 5000 is the account balance:\n",
    "#Account(\"Ashish\", 5000)\n",
    "#Task 3\n",
    "#Implement properties as instance variables, and set them to None or 0.\n",
    "#Create an initializer for the SavingsAccount class using the initializer of the Account class in the order below:\n",
    "#Account(\"Ashish\", 5000, 5)\n",
    "#Here, Ashish is the title and 5000 is the balance and 5 is the interestRate.\n",
    "#Coding exercise\n",
    "#class Account:\n",
    "#    def __init__(self):\n",
    "#       # write your code here\n",
    "#        pass\n",
    "#class SavingsAccount():\n",
    "#    def __init__(self):\n",
    "#       # write your code here\n",
    "#        Pass\n",
    "\n",
    "class Account:\n",
    "    def __init__(self, title, balance):\n",
    "        self.title = title\n",
    "        self.balance = balance\n",
    "\n",
    "class SavingsAccount(Account):\n",
    "    def __init__(self, title, balance, interestRate):\n",
    "        super().__init__(title, balance)\n",
    "        self.interestRate = interestRate\n",
    "\n",
    "account = Account(\"Ashish\", 5000)\n",
    "\n",
    "savings_account = SavingsAccount(\"Ashish\", 5000, 5)\n",
    "\n",
    "print(\"Account details:\")\n",
    "print(\"Title:\", account.title)\n",
    "print(\"Balance:\", account.balance)\n",
    "\n",
    "print(\"\\nSavings Account details:\")\n",
    "print(\"Title:\", savings_account.title)\n",
    "print(\"Balance:\", savings_account.balance)\n",
    "print(\"Interest Rate:\", savings_account.interestRate)"
   ]
  }
 ],
 "metadata": {
  "kernelspec": {
   "display_name": "Python 3 (ipykernel)",
   "language": "python",
   "name": "python3"
  },
  "language_info": {
   "codemirror_mode": {
    "name": "ipython",
    "version": 3
   },
   "file_extension": ".py",
   "mimetype": "text/x-python",
   "name": "python",
   "nbconvert_exporter": "python",
   "pygments_lexer": "ipython3",
   "version": "3.11.3"
  }
 },
 "nbformat": 4,
 "nbformat_minor": 5
}
