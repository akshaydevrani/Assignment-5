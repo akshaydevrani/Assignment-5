{
 "cells": [
  {
   "cell_type": "code",
   "execution_count": 2,
   "id": "b15e2092",
   "metadata": {},
   "outputs": [
    {
     "name": "stdout",
     "output_type": "stream",
     "text": [
      "Name: Akshay Devrani\n",
      "Roll Number: 00001\n"
     ]
    }
   ],
   "source": [
    "#Challenge 3: Implement the Complete Student Class\n",
    "#🔴In this challenge, you will implement a student class\n",
    "#Problem statement\n",
    "\n",
    "#Implement the complete Student class by completing the tasks below\n",
    "\n",
    "#Task\n",
    "\n",
    "#👉 Implement the following properties as private:\n",
    "\n",
    "#• name\n",
    "#• rollNumber\n",
    "#👉 Include the following methods to get and set the private properties above:\n",
    "\n",
    "#• getName()\n",
    "#• setName()\n",
    "#• getRollNumber()\n",
    "#• setRollNumber()\n",
    "#👉 Implement this class according to the rules of encapsulation.\n",
    "\n",
    "#Input - Checking all the properties and methods\n",
    "#Output - Expecting perfectly defined fields and getter/setters\n",
    "#Note: Do not use initializers to initialize the properties. Use the set methods to do so.\n",
    "#If the setter is not defined properly, the corresponding getter will also generate an error even if the getter is defined properly.\n",
    "#Coding exercise\n",
    "#class Student:\n",
    "#    def setName(self):\n",
    "#        pass\n",
    "#    def getName(self):\n",
    "#        pass\n",
    "#    def setRollNumber(self):\n",
    "#        pass\n",
    "#    def getRollNumber(self):\n",
    "#        pass\n",
    "\n",
    "class Student:\n",
    "    def __init__(self):\n",
    "        self.__name = \"\"\n",
    "        self.__rollNumber = \"\"\n",
    "\n",
    "    def setName(self, name):\n",
    "        self.__name = name\n",
    "    \n",
    "    def getName(self):\n",
    "        return self.__name\n",
    "    \n",
    "    def setRollNumber(self, rollNumber):\n",
    "        self.__rollNumber = rollNumber\n",
    "    \n",
    "    def getRollNumber(self):\n",
    "        return self.__rollNumber\n",
    "\n",
    "student = Student()\n",
    "student.setName(\"Akshay Devrani\")\n",
    "student.setRollNumber(\"00001\")\n",
    "\n",
    "print(\"Name:\", student.getName())\n",
    "print(\"Roll Number:\", student.getRollNumber())"
   ]
  }
 ],
 "metadata": {
  "kernelspec": {
   "display_name": "Python 3 (ipykernel)",
   "language": "python",
   "name": "python3"
  },
  "language_info": {
   "codemirror_mode": {
    "name": "ipython",
    "version": 3
   },
   "file_extension": ".py",
   "mimetype": "text/x-python",
   "name": "python",
   "nbconvert_exporter": "python",
   "pygments_lexer": "ipython3",
   "version": "3.11.3"
  }
 },
 "nbformat": 4,
 "nbformat_minor": 5
}
