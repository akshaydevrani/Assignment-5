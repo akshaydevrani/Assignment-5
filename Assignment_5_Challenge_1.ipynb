{
 "cells": [
  {
   "cell_type": "code",
   "execution_count": 27,
   "id": "e01ed7e3",
   "metadata": {},
   "outputs": [
    {
     "name": "stdout",
     "output_type": "stream",
     "text": [
      "35\n"
     ]
    }
   ],
   "source": [
    "#Challenge 1: Square Numbers and Return Their Sum\n",
    "#In this challenge, you need to implement a method that squares passing variables and returns their sum.\n",
    "#Problem statement: Implement a class Point that has three properties and a method. All these attributes (properties and methods) should be public. This problem can be broken down into two tasks:\n",
    "#Task 1: 👉 Implement a constructor to initialize the values of three properties: x, y, and z.\n",
    "#Task 2: 👉 Implement a method, sqSum(), in the Point class which squares x, y, and z and returns their sum.\n",
    "#Sample properties 1, 3, 5\n",
    "#Sample method output 35\n",
    "#Coding exercise Create a class Point with three properties: x, y, and z.\n",
    "#class Point:\n",
    "\n",
    "\n",
    "#    def __init__(self):\n",
    "#        self.x = x\n",
    "#        self.y = y\n",
    "#        self.z = z\n",
    "#\n",
    "#    def sqSum(self):\n",
    "#        pass\n",
    "\n",
    "class Point:\n",
    "\n",
    "    def __init__(self, x, y, z):\n",
    "        self.x = x\n",
    "        self.y = y\n",
    "        self.z = z\n",
    "\n",
    "    def sqSum(self):\n",
    "        return self.x ** 2 + self.y ** 2 + self.z ** 2\n",
    "\n",
    "point = Point(1, 3, 5)\n",
    "\n",
    "result = point.sqSum()\n",
    "print(result)"
   ]
  }
 ],
 "metadata": {
  "kernelspec": {
   "display_name": "Python 3 (ipykernel)",
   "language": "python",
   "name": "python3"
  },
  "language_info": {
   "codemirror_mode": {
    "name": "ipython",
    "version": 3
   },
   "file_extension": ".py",
   "mimetype": "text/x-python",
   "name": "python",
   "nbconvert_exporter": "python",
   "pygments_lexer": "ipython3",
   "version": "3.11.3"
  }
 },
 "nbformat": 4,
 "nbformat_minor": 5
}
